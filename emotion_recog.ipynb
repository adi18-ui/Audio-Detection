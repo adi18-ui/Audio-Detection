{
  "nbformat": 4,
  "nbformat_minor": 0,
  "metadata": {
    "colab": {
      "provenance": [],
      "machine_shape": "hm",
      "gpuType": "A100"
    },
    "kernelspec": {
      "name": "python3",
      "display_name": "Python 3"
    },
    "language_info": {
      "name": "python"
    },
    "accelerator": "GPU"
  },
  "cells": [
    {
      "cell_type": "code",
      "source": [
        "from google.colab import drive\n",
        "drive.mount('/content/drive')"
      ],
      "metadata": {
        "colab": {
          "base_uri": "https://localhost:8080/"
        },
        "id": "NIYKAJ4nDuaE",
        "outputId": "adf0859d-67c7-4e6b-e3fb-4074a8d50815"
      },
      "execution_count": 1,
      "outputs": [
        {
          "output_type": "stream",
          "name": "stdout",
          "text": [
            "Mounted at /content/drive\n"
          ]
        }
      ]
    },
    {
      "cell_type": "markdown",
      "source": [
        "# **Importing the Libraries**"
      ],
      "metadata": {
        "id": "atWQKqnUDi19"
      }
    },
    {
      "cell_type": "code",
      "execution_count": 2,
      "metadata": {
        "colab": {
          "base_uri": "https://localhost:8080/"
        },
        "id": "7KaUdU_xDceQ",
        "outputId": "c10a1e2d-05aa-4794-c254-a302e0809b7c"
      },
      "outputs": [
        {
          "output_type": "stream",
          "name": "stdout",
          "text": [
            "Done\n"
          ]
        }
      ],
      "source": [
        "# Importing Libraries\n",
        "import pandas as pd\n",
        "import numpy as np\n",
        "\n",
        "import os\n",
        "import sys\n",
        "\n",
        "import librosa\n",
        "import librosa.display\n",
        "import seaborn as sns\n",
        "import matplotlib.pyplot as plt\n",
        "\n",
        "from sklearn.preprocessing import StandardScaler, OneHotEncoder\n",
        "from sklearn.metrics import confusion_matrix, classification_report\n",
        "from sklearn.model_selection import train_test_split\n",
        "\n",
        "import IPython.display as ipd\n",
        "from IPython.display import Audio\n",
        "import keras\n",
        "from keras.preprocessing import sequence\n",
        "from keras.models import Sequential\n",
        "from keras.layers import Dense, Embedding\n",
        "from keras.layers import LSTM,BatchNormalization , GRU\n",
        "from tensorflow.keras.preprocessing.text import Tokenizer\n",
        "from keras.preprocessing.sequence import pad_sequences\n",
        "from tensorflow.keras.utils import to_categorical\n",
        "from keras.layers import Input, Flatten, Dropout, Activation\n",
        "from keras.layers import Conv1D, MaxPooling1D, AveragePooling1D\n",
        "from keras.models import Model\n",
        "from keras.callbacks import ModelCheckpoint\n",
        "from tensorflow.keras.optimizers import SGD\n",
        "\n",
        "\n",
        "\n",
        "import warnings\n",
        "if not sys.warnoptions:\n",
        "    warnings.simplefilter(\"ignore\")\n",
        "warnings.filterwarnings(\"ignore\", category=DeprecationWarning)\n",
        "import tensorflow as tf\n",
        "print (\"Done\")"
      ]
    },
    {
      "cell_type": "markdown",
      "source": [
        "# **Prepraing the Dataset**"
      ],
      "metadata": {
        "id": "Iow_6W6WEDeW"
      }
    },
    {
      "cell_type": "code",
      "source": [
        "ravdess = '/content/drive/My Drive/ravdess/audio_actors'\n",
        "ravdess_directory_list = os.listdir(ravdess)\n",
        "print(ravdess_directory_list)"
      ],
      "metadata": {
        "colab": {
          "base_uri": "https://localhost:8080/"
        },
        "id": "14rD1O7CDoo_",
        "outputId": "e1e6842a-cca0-4eaa-c648-26645a161bfa"
      },
      "execution_count": 3,
      "outputs": [
        {
          "output_type": "stream",
          "name": "stdout",
          "text": [
            "['Actor_16', 'Actor_15', 'Actor_14', 'Actor_12', 'Actor_11', 'Actor_13', 'Actor_09', 'Actor_10', 'Actor_08', 'Actor_02', 'Actor_07', 'Actor_01', 'Actor_05', 'Actor_04', 'Actor_03', 'Actor_06', 'Actor_17', 'Actor_18', 'Actor_19', 'Actor_20', 'Actor_21', 'Actor_22', 'Actor_23', 'Actor_24']\n"
          ]
        }
      ]
    },
    {
      "cell_type": "code",
      "source": [
        "file_emotion = []\n",
        "file_path = []\n",
        "for i in ravdess_directory_list:\n",
        "    actor_path = os.path.join(ravdess, i)\n",
        "    actor = os.listdir(actor_path)\n",
        "    for f in actor:\n",
        "        part = f.split('.')[0].split('-')\n",
        "        file_emotion.append(int(part[2]))\n",
        "        file_path.append(os.path.join(actor_path, f))"
      ],
      "metadata": {
        "id": "itSd-l-vF6Ia"
      },
      "execution_count": 4,
      "outputs": []
    },
    {
      "cell_type": "code",
      "source": [
        "emotion_df = pd.DataFrame(file_emotion, columns=['Emotions'])\n",
        "# dataframe for path of files.\n",
        "path_df = pd.DataFrame(file_path, columns=['Path'])\n",
        "ravdess_df = pd.concat([emotion_df, path_df], axis=1)\n",
        "# changing integers to actual emotions.\n",
        "ravdess_df.Emotions.replace({1:'neutral', 2:'calm', 3:'happy', 4:'sad', 5:'angry', 6:'fearful', 7:'disgust',\n",
        "                             8:'surprised'},\n",
        "                            inplace=True)\n"
      ],
      "metadata": {
        "collapsed": true,
        "id": "yTH6H-khGFmf"
      },
      "execution_count": null,
      "outputs": []
    },
    {
      "cell_type": "code",
      "source": [
        "ravdess_df.to_csv(\"ravdess_df\",index=False)"
      ],
      "metadata": {
        "id": "R1xPIzJzGjEw"
      },
      "execution_count": 6,
      "outputs": []
    },
    {
      "cell_type": "code",
      "source": [
        "print(ravdess_df.Emotions.value_counts())"
      ],
      "metadata": {
        "colab": {
          "base_uri": "https://localhost:8080/"
        },
        "id": "t4_-kpdeHG1A",
        "outputId": "864533c2-4a8f-4793-b548-463b4f875b63",
        "collapsed": true
      },
      "execution_count": 7,
      "outputs": [
        {
          "output_type": "stream",
          "name": "stdout",
          "text": [
            "Emotions\n",
            "calm         192\n",
            "happy        192\n",
            "sad          192\n",
            "disgust      192\n",
            "angry        192\n",
            "fearful      192\n",
            "surprised    192\n",
            "neutral       96\n",
            "Name: count, dtype: int64\n"
          ]
        }
      ]
    },
    {
      "cell_type": "markdown",
      "source": [
        "# **Data Visualtion**"
      ],
      "metadata": {
        "id": "0R_ikEJyISyI"
      }
    },
    {
      "cell_type": "code",
      "source": [
        "import matplotlib.pyplot as plt\n",
        "import seaborn as sns"
      ],
      "metadata": {
        "id": "WK1NQwyZIYSf"
      },
      "execution_count": 8,
      "outputs": []
    },
    {
      "cell_type": "code",
      "source": [
        "plt.title('Count of Emotions', size=16)\n",
        "sns.countplot(x=ravdess_df.Emotions)\n",
        "plt.ylabel('Count', size = 12)\n",
        "plt.xlabel('Emotions', size = 12)\n",
        "sns.despine(top=True, right=True, left=False, bottom=False)\n",
        "plt.show()"
      ],
      "metadata": {
        "colab": {
          "base_uri": "https://localhost:8080/",
          "height": 478
        },
        "id": "6PR3HEbNHpV_",
        "outputId": "a7b22526-1893-47d5-9435-d9d87d70c586",
        "collapsed": true
      },
      "execution_count": 9,
      "outputs": [
        {
          "output_type": "display_data",
          "data": {
            "text/plain": [
              "<Figure size 640x480 with 1 Axes>"
            ],
            "image/png": "[encoded data removed]"
          },
          "metadata": {}
        }
      ]
    },
    {
      "cell_type": "markdown",
      "source": [
        "# **Implementing the MFCC features**"
      ],
      "metadata": {
        "id": "AY29-XM3JSsk"
      }
    },
    {
      "cell_type": "code",
      "source": [
        "# Adding Noise\n",
        "def noise(data):\n",
        "    noise_amp = 0.035*np.random.uniform()*np.amax(data)\n",
        "    data = data + noise_amp*np.random.normal(size=data.shape[0])\n",
        "    return data\n",
        "\n",
        "# Stretching the audio\n",
        "def stretch(data, rate=0.8):\n",
        "    return librosa.effects.time_stretch(data, rate)\n",
        "\n",
        "# shift\n",
        "def shift(data):\n",
        "    shift_range = int(np.random.uniform(low=-5, high = 5)*1000)\n",
        "    return np.roll(data, shift_range)\n",
        "\n",
        "# pitch\n",
        "def pitch(data, sampling_rate, pitch_factor=0.7):\n",
        "    return librosa.effects.pitch_shift(data, sr=sampling_rate, n_steps=pitch_factor)"
      ],
      "metadata": {
        "id": "gnx10YzPKbYc"
      },
      "execution_count": 10,
      "outputs": []
    },
    {
      "cell_type": "code",
      "source": [
        "def zcr(data,frame_length,hop_length):\n",
        "    zcr=librosa.feature.zero_crossing_rate(data,frame_length=frame_length,hop_length=hop_length)\n",
        "    return np.squeeze(zcr)\n",
        "\n",
        "\n",
        "def calculate_rmse(data,frame_length=2048,hop_length=512):\n",
        "    rmse_val=librosa.feature.rms(y=data,frame_length=frame_length,hop_length=hop_length)\n",
        "    return np.squeeze(rmse_val)\n",
        "\n",
        "\n",
        "def mfcc(data,sr,frame_length=2048,hop_length=512,flatten:bool=True):\n",
        "    mfcc=librosa.feature.mfcc(y=data,sr=sr)\n",
        "    return np.squeeze(mfcc.T)if not flatten else np.ravel(mfcc.T)\n",
        "\n",
        "def extract_features(data,sr=22050,frame_length=2048,hop_length=512):\n",
        "    result=np.array([])\n",
        "\n",
        "    result=np.hstack((result,\n",
        "                      zcr(data,frame_length,hop_length),\n",
        "                      calculate_rmse(data,frame_length,hop_length),\n",
        "                      mfcc(data,sr,frame_length,hop_length)\n",
        "                     ))\n",
        "    return result\n",
        "\n",
        "\n",
        "def get_features(path,duration=2.5, offset=0.6):\n",
        "    data,sr=librosa.load(path,duration=duration,offset=offset)\n",
        "    aud=extract_features(data)\n",
        "    audio=np.array(aud)\n",
        "\n",
        "    noised_audio=noise(data)\n",
        "    aud2=extract_features(noised_audio)\n",
        "    audio=np.vstack((audio,aud2))\n",
        "\n",
        "    pitched_audio=pitch(data,sr)\n",
        "    aud3=extract_features(pitched_audio)\n",
        "    audio=np.vstack((audio,aud3))\n",
        "\n",
        "    pitched_audio1=pitch(data,sr)\n",
        "    pitched_noised_audio=noise(pitched_audio1)\n",
        "    aud4=extract_features(pitched_noised_audio)\n",
        "    audio=np.vstack((audio,aud4))\n",
        "\n",
        "    return audio"
      ],
      "metadata": {
        "id": "A9aMZK1IIZwR"
      },
      "execution_count": 11,
      "outputs": []
    },
    {
      "cell_type": "code",
      "source": [
        "import timeit\n",
        "from tqdm import tqdm\n",
        "start = timeit.default_timer()\n",
        "X,Y=[],[]\n",
        "for path,emotion,index in tqdm (zip(ravdess_df.Path,ravdess_df.Emotions,range(ravdess_df.Path.shape[0]))):\n",
        "    features = get_features(path)\n",
        "    if index%500==0:\n",
        "        print(f'{index} audio has been processed')\n",
        "    for i in features:\n",
        "        X.append(i)\n",
        "        Y.append(emotion)\n",
        "print('Done')\n",
        "stop = timeit.default_timer()\n",
        "\n",
        "print('Time: ', stop - start)"
      ],
      "metadata": {
        "colab": {
          "base_uri": "https://localhost:8080/"
        },
        "id": "o8yBXUJsJ71l",
        "outputId": "9644aa58-a72a-4c28-f7e0-208f5dbc722f"
      },
      "execution_count": 12,
      "outputs": [
        {
          "output_type": "stream",
          "name": "stderr",
          "text": [
            "1it [00:19, 19.73s/it]"
          ]
        },
        {
          "output_type": "stream",
          "name": "stdout",
          "text": [
            "0 audio has been processed\n"
          ]
        },
        {
          "output_type": "stream",
          "name": "stderr",
          "text": [
            "501it [09:22,  1.05s/it]"
          ]
        },
        {
          "output_type": "stream",
          "name": "stdout",
          "text": [
            "500 audio has been processed\n"
          ]
        },
        {
          "output_type": "stream",
          "name": "stderr",
          "text": [
            "1001it [18:49,  1.00it/s]"
          ]
        },
        {
          "output_type": "stream",
          "name": "stdout",
          "text": [
            "1000 audio has been processed\n"
          ]
        },
        {
          "output_type": "stream",
          "name": "stderr",
          "text": [
            "1440it [26:51,  1.12s/it]"
          ]
        },
        {
          "output_type": "stream",
          "name": "stdout",
          "text": [
            "Done\n",
            "Time:  1611.7811405320003\n"
          ]
        },
        {
          "output_type": "stream",
          "name": "stderr",
          "text": [
            "\n"
          ]
        }
      ]
    },
    {
      "cell_type": "code",
      "source": [
        "len(X), len(Y), ravdess_df.Path.shape"
      ],
      "metadata": {
        "colab": {
          "base_uri": "https://localhost:8080/"
        },
        "id": "x7R8Yyr7Vx63",
        "outputId": "f1c3fc01-8597-449e-82d4-702276cc794e"
      },
      "execution_count": 15,
      "outputs": [
        {
          "output_type": "execute_result",
          "data": {
            "text/plain": [
              "(5760, 5760, (1440,))"
            ]
          },
          "metadata": {},
          "execution_count": 15
        }
      ]
    },
    {
      "cell_type": "code",
      "source": [
        "Emotions = pd.DataFrame(X)\n",
        "Emotions['Emotions'] = Y\n",
        "Emotions.to_csv('emotion.csv', index=False)\n",
        "Emotions.head()"
      ],
      "metadata": {
        "colab": {
          "base_uri": "https://localhost:8080/",
          "height": 256
        },
        "collapsed": true,
        "id": "Yhyk2NTAP4fI",
        "outputId": "8842756e-b0e9-4c53-a59f-8449bafa0681"
      },
      "execution_count": 16,
      "outputs": [
        {
          "output_type": "execute_result",
          "data": {
            "text/plain": [
              "          0         1         2         3         4         5         6  \\\n",
              "0  0.293457  0.365723  0.430664  0.312500  0.286621  0.297363  0.313477   \n",
              "1  0.248535  0.362305  0.483398  0.477051  0.479492  0.494629  0.497559   \n",
              "2  0.125977  0.140625  0.175293  0.150391  0.181641  0.242188  0.303711   \n",
              "3  0.228027  0.348633  0.461914  0.465332  0.479004  0.480957  0.493652   \n",
              "4  0.390625  0.560547  0.776367  0.765137  0.822266  0.879395  0.850586   \n",
              "\n",
              "          7         8         9  ...      2367      2368      2369      2370  \\\n",
              "0  0.318848  0.372559  0.376953  ...  1.018232  0.266373 -0.348294 -0.518506   \n",
              "1  0.503906  0.514160  0.509277  ...  1.141337  1.284543 -0.602416  3.322278   \n",
              "2  0.316406  0.301270  0.258301  ...  2.125674  1.752258  1.386205  1.032266   \n",
              "3  0.501465  0.486328  0.487793  ...  1.565868 -1.175680 -6.326599  1.752834   \n",
              "4  0.862793  0.863770  0.867188  ... -0.375159 -1.341119 -1.612453 -0.962625   \n",
              "\n",
              "       2371      2372      2373      2374      2375  Emotions  \n",
              "0 -0.186301  0.395265  0.914690  1.245337  1.421606   neutral  \n",
              "1 -0.632250  0.549231  2.856811  1.820341 -3.686253   neutral  \n",
              "2  0.694367  0.375638  0.078455 -0.195357 -0.444457   neutral  \n",
              "3  0.993512 -6.001181 -4.181245  3.022470  3.262396   neutral  \n",
              "4  0.161264  1.191060  1.849116  1.881572  1.093983   neutral  \n",
              "\n",
              "[5 rows x 2377 columns]"
            ],
            "text/html": [
              "\n",
              "  <div id=\"df-d764a15b-3d6c-46d3-8278-2397d03964fc\" class=\"colab-df-container\">\n",
              "    <div>\n",
              "<style scoped>\n",
              "    .dataframe tbody tr th:only-of-type {\n",
              "        vertical-align: middle;\n",
              "    }\n",
              "\n",
              "    .dataframe tbody tr th {\n",
              "        vertical-align: top;\n",
              "    }\n",
              "\n",
              "    .dataframe thead th {\n",
              "        text-align: right;\n",
              "    }\n",
              "</style>\n",
              "<table border=\"1\" class=\"dataframe\">\n",
              "  <thead>\n",
              "    <tr style=\"text-align: right;\">\n",
              "      <th></th>\n",
              "      <th>0</th>\n",
              "      <th>1</th>\n",
              "      <th>2</th>\n",
              "      <th>3</th>\n",
              "      <th>4</th>\n",
              "      <th>5</th>\n",
              "      <th>6</th>\n",
              "      <th>7</th>\n",
              "      <th>8</th>\n",
              "      <th>9</th>\n",
              "      <th>...</th>\n",
              "      <th>2367</th>\n",
              "      <th>2368</th>\n",
              "      <th>2369</th>\n",
              "      <th>2370</th>\n",
              "      <th>2371</th>\n",
              "      <th>2372</th>\n",
              "      <th>2373</th>\n",
              "      <th>2374</th>\n",
              "      <th>2375</th>\n",
              "      <th>Emotions</th>\n",
              "    </tr>\n",
              "  </thead>\n",
              "  <tbody>\n",
              "    <tr>\n",
              "      <th>0</th>\n",
              "      <td>0.293457</td>\n",
              "      <td>0.365723</td>\n",
              "      <td>0.430664</td>\n",
              "      <td>0.312500</td>\n",
              "      <td>0.286621</td>\n",
              "      <td>0.297363</td>\n",
              "      <td>0.313477</td>\n",
              "      <td>0.318848</td>\n",
              "      <td>0.372559</td>\n",
              "      <td>0.376953</td>\n",
              "      <td>...</td>\n",
              "      <td>1.018232</td>\n",
              "      <td>0.266373</td>\n",
              "      <td>-0.348294</td>\n",
              "      <td>-0.518506</td>\n",
              "      <td>-0.186301</td>\n",
              "      <td>0.395265</td>\n",
              "      <td>0.914690</td>\n",
              "      <td>1.245337</td>\n",
              "      <td>1.421606</td>\n",
              "      <td>neutral</td>\n",
              "    </tr>\n",
              "    <tr>\n",
              "      <th>1</th>\n",
              "      <td>0.248535</td>\n",
              "      <td>0.362305</td>\n",
              "      <td>0.483398</td>\n",
              "      <td>0.477051</td>\n",
              "      <td>0.479492</td>\n",
              "      <td>0.494629</td>\n",
              "      <td>0.497559</td>\n",
              "      <td>0.503906</td>\n",
              "      <td>0.514160</td>\n",
              "      <td>0.509277</td>\n",
              "      <td>...</td>\n",
              "      <td>1.141337</td>\n",
              "      <td>1.284543</td>\n",
              "      <td>-0.602416</td>\n",
              "      <td>3.322278</td>\n",
              "      <td>-0.632250</td>\n",
              "      <td>0.549231</td>\n",
              "      <td>2.856811</td>\n",
              "      <td>1.820341</td>\n",
              "      <td>-3.686253</td>\n",
              "      <td>neutral</td>\n",
              "    </tr>\n",
              "    <tr>\n",
              "      <th>2</th>\n",
              "      <td>0.125977</td>\n",
              "      <td>0.140625</td>\n",
              "      <td>0.175293</td>\n",
              "      <td>0.150391</td>\n",
              "      <td>0.181641</td>\n",
              "      <td>0.242188</td>\n",
              "      <td>0.303711</td>\n",
              "      <td>0.316406</td>\n",
              "      <td>0.301270</td>\n",
              "      <td>0.258301</td>\n",
              "      <td>...</td>\n",
              "      <td>2.125674</td>\n",
              "      <td>1.752258</td>\n",
              "      <td>1.386205</td>\n",
              "      <td>1.032266</td>\n",
              "      <td>0.694367</td>\n",
              "      <td>0.375638</td>\n",
              "      <td>0.078455</td>\n",
              "      <td>-0.195357</td>\n",
              "      <td>-0.444457</td>\n",
              "      <td>neutral</td>\n",
              "    </tr>\n",
              "    <tr>\n",
              "      <th>3</th>\n",
              "      <td>0.228027</td>\n",
              "      <td>0.348633</td>\n",
              "      <td>0.461914</td>\n",
              "      <td>0.465332</td>\n",
              "      <td>0.479004</td>\n",
              "      <td>0.480957</td>\n",
              "      <td>0.493652</td>\n",
              "      <td>0.501465</td>\n",
              "      <td>0.486328</td>\n",
              "      <td>0.487793</td>\n",
              "      <td>...</td>\n",
              "      <td>1.565868</td>\n",
              "      <td>-1.175680</td>\n",
              "      <td>-6.326599</td>\n",
              "      <td>1.752834</td>\n",
              "      <td>0.993512</td>\n",
              "      <td>-6.001181</td>\n",
              "      <td>-4.181245</td>\n",
              "      <td>3.022470</td>\n",
              "      <td>3.262396</td>\n",
              "      <td>neutral</td>\n",
              "    </tr>\n",
              "    <tr>\n",
              "      <th>4</th>\n",
              "      <td>0.390625</td>\n",
              "      <td>0.560547</td>\n",
              "      <td>0.776367</td>\n",
              "      <td>0.765137</td>\n",
              "      <td>0.822266</td>\n",
              "      <td>0.879395</td>\n",
              "      <td>0.850586</td>\n",
              "      <td>0.862793</td>\n",
              "      <td>0.863770</td>\n",
              "      <td>0.867188</td>\n",
              "      <td>...</td>\n",
              "      <td>-0.375159</td>\n",
              "      <td>-1.341119</td>\n",
              "      <td>-1.612453</td>\n",
              "      <td>-0.962625</td>\n",
              "      <td>0.161264</td>\n",
              "      <td>1.191060</td>\n",
              "      <td>1.849116</td>\n",
              "      <td>1.881572</td>\n",
              "      <td>1.093983</td>\n",
              "      <td>neutral</td>\n",
              "    </tr>\n",
              "  </tbody>\n",
              "</table>\n",
              "<p>5 rows × 2377 columns</p>\n",
              "</div>\n",
              "    <div class=\"colab-df-buttons\">\n",
              "\n",
              "  <div class=\"colab-df-container\">\n",
              "    <button class=\"colab-df-convert\" onclick=\"convertToInteractive('df-d764a15b-3d6c-46d3-8278-2397d03964fc')\"\n",
              "            title=\"Convert this dataframe to an interactive table.\"\n",
              "            style=\"display:none;\">\n",
              "\n",
              "  <svg xmlns=\"http://www.w3.org/2000/svg\" height=\"24px\" viewBox=\"0 -960 960 960\">\n",
              "    <path d=\"M120-120v-720h720v720H120Zm60-500h600v-160H180v160Zm220 220h160v-160H400v160Zm0 220h160v-160H400v160ZM180-400h160v-160H180v160Zm440 0h160v-160H620v160ZM180-180h160v-160H180v160Zm440 0h160v-160H620v160Z\"/>\n",
              "  </svg>\n",
              "    </button>\n",
              "\n",
              "  <style>\n",
              "    .colab-df-container {\n",
              "      display:flex;\n",
              "      gap: 12px;\n",
              "    }\n",
              "\n",
              "    .colab-df-convert {\n",
              "      background-color: #E8F0FE;\n",
              "      border: none;\n",
              "      border-radius: 50%;\n",
              "      cursor: pointer;\n",
              "      display: none;\n",
              "      fill: #1967D2;\n",
              "      height: 32px;\n",
              "      padding: 0 0 0 0;\n",
              "      width: 32px;\n",
              "    }\n",
              "\n",
              "    .colab-df-convert:hover {\n",
              "      background-color: #E2EBFA;\n",
              "      box-shadow: 0px 1px 2px rgba(60, 64, 67, 0.3), 0px 1px 3px 1px rgba(60, 64, 67, 0.15);\n",
              "      fill: #174EA6;\n",
              "    }\n",
              "\n",
              "    .colab-df-buttons div {\n",
              "      margin-bottom: 4px;\n",
              "    }\n",
              "\n",
              "    [theme=dark] .colab-df-convert {\n",
              "      background-color: #3B4455;\n",
              "      fill: #D2E3FC;\n",
              "    }\n",
              "\n",
              "    [theme=dark] .colab-df-convert:hover {\n",
              "      background-color: #434B5C;\n",
              "      box-shadow: 0px 1px 3px 1px rgba(0, 0, 0, 0.15);\n",
              "      filter: drop-shadow(0px 1px 2px rgba(0, 0, 0, 0.3));\n",
              "      fill: #FFFFFF;\n",
              "    }\n",
              "  </style>\n",
              "\n",
              "    <script>\n",
              "      const buttonEl =\n",
              "        document.querySelector('#df-d764a15b-3d6c-46d3-8278-2397d03964fc button.colab-df-convert');\n",
              "      buttonEl.style.display =\n",
              "        google.colab.kernel.accessAllowed ? 'block' : 'none';\n",
              "\n",
              "      async function convertToInteractive(key) {\n",
              "        const element = document.querySelector('#df-d764a15b-3d6c-46d3-8278-2397d03964fc');\n",
              "        const dataTable =\n",
              "          await google.colab.kernel.invokeFunction('convertToInteractive',\n",
              "                                                    [key], {});\n",
              "        if (!dataTable) return;\n",
              "\n",
              "        const docLinkHtml = 'Like what you see? Visit the ' +\n",
              "          '<a target=\"_blank\" href=https://colab.research.google.com/notebooks/data_table.ipynb>data table notebook</a>'\n",
              "          + ' to learn more about interactive tables.';\n",
              "        element.innerHTML = '';\n",
              "        dataTable['output_type'] = 'display_data';\n",
              "        await google.colab.output.renderOutput(dataTable, element);\n",
              "        const docLink = document.createElement('div');\n",
              "        docLink.innerHTML = docLinkHtml;\n",
              "        element.appendChild(docLink);\n",
              "      }\n",
              "    </script>\n",
              "  </div>\n",
              "\n",
              "\n",
              "<div id=\"df-5c06c186-3989-4bb0-a256-5586971455f9\">\n",
              "  <button class=\"colab-df-quickchart\" onclick=\"quickchart('df-5c06c186-3989-4bb0-a256-5586971455f9')\"\n",
              "            title=\"Suggest charts\"\n",
              "            style=\"display:none;\">\n",
              "\n",
              "<svg xmlns=\"http://www.w3.org/2000/svg\" height=\"24px\"viewBox=\"0 0 24 24\"\n",
              "     width=\"24px\">\n",
              "    <g>\n",
              "        <path d=\"M19 3H5c-1.1 0-2 .9-2 2v14c0 1.1.9 2 2 2h14c1.1 0 2-.9 2-2V5c0-1.1-.9-2-2-2zM9 17H7v-7h2v7zm4 0h-2V7h2v10zm4 0h-2v-4h2v4z\"/>\n",
              "    </g>\n",
              "</svg>\n",
              "  </button>\n",
              "\n",
              "<style>\n",
              "  .colab-df-quickchart {\n",
              "      --bg-color: #E8F0FE;\n",
              "      --fill-color: #1967D2;\n",
              "      --hover-bg-color: #E2EBFA;\n",
              "      --hover-fill-color: #174EA6;\n",
              "      --disabled-fill-color: #AAA;\n",
              "      --disabled-bg-color: #DDD;\n",
              "  }\n",
              "\n",
              "  [theme=dark] .colab-df-quickchart {\n",
              "      --bg-color: #3B4455;\n",
              "      --fill-color: #D2E3FC;\n",
              "      --hover-bg-color: #434B5C;\n",
              "      --hover-fill-color: #FFFFFF;\n",
              "      --disabled-bg-color: #3B4455;\n",
              "      --disabled-fill-color: #666;\n",
              "  }\n",
              "\n",
              "  .colab-df-quickchart {\n",
              "    background-color: var(--bg-color);\n",
              "    border: none;\n",
              "    border-radius: 50%;\n",
              "    cursor: pointer;\n",
              "    display: none;\n",
              "    fill: var(--fill-color);\n",
              "    height: 32px;\n",
              "    padding: 0;\n",
              "    width: 32px;\n",
              "  }\n",
              "\n",
              "  .colab-df-quickchart:hover {\n",
              "    background-color: var(--hover-bg-color);\n",
              "    box-shadow: 0 1px 2px rgba(60, 64, 67, 0.3), 0 1px 3px 1px rgba(60, 64, 67, 0.15);\n",
              "    fill: var(--button-hover-fill-color);\n",
              "  }\n",
              "\n",
              "  .colab-df-quickchart-complete:disabled,\n",
              "  .colab-df-quickchart-complete:disabled:hover {\n",
              "    background-color: var(--disabled-bg-color);\n",
              "    fill: var(--disabled-fill-color);\n",
              "    box-shadow: none;\n",
              "  }\n",
              "\n",
              "  .colab-df-spinner {\n",
              "    border: 2px solid var(--fill-color);\n",
              "    border-color: transparent;\n",
              "    border-bottom-color: var(--fill-color);\n",
              "    animation:\n",
              "      spin 1s steps(1) infinite;\n",
              "  }\n",
              "\n",
              "  @keyframes spin {\n",
              "    0% {\n",
              "      border-color: transparent;\n",
              "      border-bottom-color: var(--fill-color);\n",
              "      border-left-color: var(--fill-color);\n",
              "    }\n",
              "    20% {\n",
              "      border-color: transparent;\n",
              "      border-left-color: var(--fill-color);\n",
              "      border-top-color: var(--fill-color);\n",
              "    }\n",
              "    30% {\n",
              "      border-color: transparent;\n",
              "      border-left-color: var(--fill-color);\n",
              "      border-top-color: var(--fill-color);\n",
              "      border-right-color: var(--fill-color);\n",
              "    }\n",
              "    40% {\n",
              "      border-color: transparent;\n",
              "      border-right-color: var(--fill-color);\n",
              "      border-top-color: var(--fill-color);\n",
              "    }\n",
              "    60% {\n",
              "      border-color: transparent;\n",
              "      border-right-color: var(--fill-color);\n",
              "    }\n",
              "    80% {\n",
              "      border-color: transparent;\n",
              "      border-right-color: var(--fill-color);\n",
              "      border-bottom-color: var(--fill-color);\n",
              "    }\n",
              "    90% {\n",
              "      border-color: transparent;\n",
              "      border-bottom-color: var(--fill-color);\n",
              "    }\n",
              "  }\n",
              "</style>\n",
              "\n",
              "  <script>\n",
              "    async function quickchart(key) {\n",
              "      const quickchartButtonEl =\n",
              "        document.querySelector('#' + key + ' button');\n",
              "      quickchartButtonEl.disabled = true;  // To prevent multiple clicks.\n",
              "      quickchartButtonEl.classList.add('colab-df-spinner');\n",
              "      try {\n",
              "        const charts = await google.colab.kernel.invokeFunction(\n",
              "            'suggestCharts', [key], {});\n",
              "      } catch (error) {\n",
              "        console.error('Error during call to suggestCharts:', error);\n",
              "      }\n",
              "      quickchartButtonEl.classList.remove('colab-df-spinner');\n",
              "      quickchartButtonEl.classList.add('colab-df-quickchart-complete');\n",
              "    }\n",
              "    (() => {\n",
              "      let quickchartButtonEl =\n",
              "        document.querySelector('#df-5c06c186-3989-4bb0-a256-5586971455f9 button');\n",
              "      quickchartButtonEl.style.display =\n",
              "        google.colab.kernel.accessAllowed ? 'block' : 'none';\n",
              "    })();\n",
              "  </script>\n",
              "</div>\n",
              "\n",
              "    </div>\n",
              "  </div>\n"
            ],
            "application/vnd.google.colaboratory.intrinsic+json": {
              "type": "dataframe",
              "variable_name": "Emotions"
            }
          },
          "metadata": {},
          "execution_count": 16
        }
      ]
    },
    {
      "cell_type": "code",
      "source": [
        "Emotions = pd.read_csv('./emotion.csv')"
      ],
      "metadata": {
        "collapsed": true,
        "id": "buMsf8dfTeTX"
      },
      "execution_count": null,
      "outputs": []
    },
    {
      "cell_type": "markdown",
      "source": [
        "# **Handling Missing values**"
      ],
      "metadata": {
        "id": "aKOs2y6fUa_G"
      }
    },
    {
      "cell_type": "code",
      "source": [
        "print(Emotions.isna().any())"
      ],
      "metadata": {
        "colab": {
          "base_uri": "https://localhost:8080/"
        },
        "collapsed": true,
        "id": "PYS_mgidT3-r",
        "outputId": "29cb2b1f-0d69-43c5-e1a1-9cc73b495367"
      },
      "execution_count": 18,
      "outputs": [
        {
          "output_type": "stream",
          "name": "stdout",
          "text": [
            "0           False\n",
            "1           False\n",
            "2           False\n",
            "3           False\n",
            "4           False\n",
            "            ...  \n",
            "2372         True\n",
            "2373         True\n",
            "2374         True\n",
            "2375         True\n",
            "Emotions    False\n",
            "Length: 2377, dtype: bool\n"
          ]
        }
      ]
    },
    {
      "cell_type": "code",
      "source": [
        "Emotions=Emotions.fillna(0)\n",
        "print(Emotions.isna().any())\n",
        "Emotions.shape"
      ],
      "metadata": {
        "colab": {
          "base_uri": "https://localhost:8080/"
        },
        "collapsed": true,
        "id": "RybSaCtGT_xp",
        "outputId": "414503ac-114b-4957-8785-ed28e0204f31"
      },
      "execution_count": 19,
      "outputs": [
        {
          "output_type": "stream",
          "name": "stdout",
          "text": [
            "0           False\n",
            "1           False\n",
            "2           False\n",
            "3           False\n",
            "4           False\n",
            "            ...  \n",
            "2372        False\n",
            "2373        False\n",
            "2374        False\n",
            "2375        False\n",
            "Emotions    False\n",
            "Length: 2377, dtype: bool\n"
          ]
        },
        {
          "output_type": "execute_result",
          "data": {
            "text/plain": [
              "(5760, 2377)"
            ]
          },
          "metadata": {},
          "execution_count": 19
        }
      ]
    },
    {
      "cell_type": "code",
      "source": [
        "np.sum(Emotions.isna())"
      ],
      "metadata": {
        "colab": {
          "base_uri": "https://localhost:8080/",
          "height": 514
        },
        "collapsed": true,
        "id": "6BQoKpKiUPmw",
        "outputId": "d7ec44b3-eb30-443c-b2fd-8a9f23353f58"
      },
      "execution_count": 20,
      "outputs": [
        {
          "output_type": "stream",
          "name": "stderr",
          "text": [
            "/usr/local/lib/python3.11/dist-packages/numpy/core/fromnumeric.py:86: FutureWarning: The behavior of DataFrame.sum with axis=None is deprecated, in a future version this will reduce over both axes and return a scalar. To retain the old behavior, pass axis=0 (or do not pass axis)\n",
            "  return reduction(axis=axis, out=out, **passkwargs)\n"
          ]
        },
        {
          "output_type": "execute_result",
          "data": {
            "text/plain": [
              "0           0\n",
              "1           0\n",
              "2           0\n",
              "3           0\n",
              "4           0\n",
              "           ..\n",
              "2372        0\n",
              "2373        0\n",
              "2374        0\n",
              "2375        0\n",
              "Emotions    0\n",
              "Length: 2377, dtype: int64"
            ],
            "text/html": [
              "<div>\n",
              "<style scoped>\n",
              "    .dataframe tbody tr th:only-of-type {\n",
              "        vertical-align: middle;\n",
              "    }\n",
              "\n",
              "    .dataframe tbody tr th {\n",
              "        vertical-align: top;\n",
              "    }\n",
              "\n",
              "    .dataframe thead th {\n",
              "        text-align: right;\n",
              "    }\n",
              "</style>\n",
              "<table border=\"1\" class=\"dataframe\">\n",
              "  <thead>\n",
              "    <tr style=\"text-align: right;\">\n",
              "      <th></th>\n",
              "      <th>0</th>\n",
              "    </tr>\n",
              "  </thead>\n",
              "  <tbody>\n",
              "    <tr>\n",
              "      <th>0</th>\n",
              "      <td>0</td>\n",
              "    </tr>\n",
              "    <tr>\n",
              "      <th>1</th>\n",
              "      <td>0</td>\n",
              "    </tr>\n",
              "    <tr>\n",
              "      <th>2</th>\n",
              "      <td>0</td>\n",
              "    </tr>\n",
              "    <tr>\n",
              "      <th>3</th>\n",
              "      <td>0</td>\n",
              "    </tr>\n",
              "    <tr>\n",
              "      <th>4</th>\n",
              "      <td>0</td>\n",
              "    </tr>\n",
              "    <tr>\n",
              "      <th>...</th>\n",
              "      <td>...</td>\n",
              "    </tr>\n",
              "    <tr>\n",
              "      <th>2372</th>\n",
              "      <td>0</td>\n",
              "    </tr>\n",
              "    <tr>\n",
              "      <th>2373</th>\n",
              "      <td>0</td>\n",
              "    </tr>\n",
              "    <tr>\n",
              "      <th>2374</th>\n",
              "      <td>0</td>\n",
              "    </tr>\n",
              "    <tr>\n",
              "      <th>2375</th>\n",
              "      <td>0</td>\n",
              "    </tr>\n",
              "    <tr>\n",
              "      <th>Emotions</th>\n",
              "      <td>0</td>\n",
              "    </tr>\n",
              "  </tbody>\n",
              "</table>\n",
              "<p>2377 rows × 1 columns</p>\n",
              "</div><br><label><b>dtype:</b> int64</label>"
            ]
          },
          "metadata": {},
          "execution_count": 20
        }
      ]
    },
    {
      "cell_type": "markdown",
      "source": [
        "# **Data Preparation**"
      ],
      "metadata": {
        "id": "wY1C96jTVJnL"
      }
    },
    {
      "cell_type": "code",
      "source": [
        "X = Emotions.iloc[: ,:-1].values # the last col of Emotions dataframe contains the labels\n",
        "Y = Emotions['Emotions'].values"
      ],
      "metadata": {
        "id": "ed07Zpn1UUet"
      },
      "execution_count": 21,
      "outputs": []
    },
    {
      "cell_type": "markdown",
      "source": [
        "# **Encoding our categorical values**"
      ],
      "metadata": {
        "id": "fLJRultDVX-M"
      }
    },
    {
      "cell_type": "code",
      "source": [
        "from sklearn.preprocessing import StandardScaler, OneHotEncoder\n",
        "encoder = OneHotEncoder()\n",
        "Y = encoder.fit_transform(np.array(Y).reshape(-1,1)).toarray()"
      ],
      "metadata": {
        "id": "QX9vswQ9VWU0"
      },
      "execution_count": 22,
      "outputs": []
    },
    {
      "cell_type": "code",
      "source": [
        "import numpy as np\n",
        "\n",
        "max_len = max(len(seq) for seq in X)\n",
        "\n",
        "# Padding sequences with zeros to match the maximum length\n",
        "X_padded = [np.pad(seq, (0, max_len - len(seq)), 'constant') for seq in X]\n",
        "\n",
        "X = np.array(X_padded)\n",
        "\n",
        "print(Y.shape)\n",
        "print(X.shape)"
      ],
      "metadata": {
        "colab": {
          "base_uri": "https://localhost:8080/"
        },
        "id": "aCYUV1r6Vntv",
        "outputId": "dc4e6558-c59e-4152-a659-90c1ebfc9bdf"
      },
      "execution_count": 23,
      "outputs": [
        {
          "output_type": "stream",
          "name": "stdout",
          "text": [
            "(5760, 8)\n",
            "(5760, 2376)\n"
          ]
        }
      ]
    },
    {
      "cell_type": "markdown",
      "source": [
        "# **Splitting into Training and Testing set**"
      ],
      "metadata": {
        "id": "y6RnsUvTVeZt"
      }
    },
    {
      "cell_type": "code",
      "source": [
        "X = Emotions.iloc[:, :-1].values\n",
        "Y = Emotions['Emotions'].values\n",
        "\n",
        "from sklearn.preprocessing import OneHotEncoder\n",
        "encoder = OneHotEncoder()\n",
        "Y = encoder.fit_transform(np.array(Y).reshape(-1, 1)).toarray()\n",
        "\n",
        "import numpy as np\n",
        "num_augmentations = X.shape[0] // Y.shape[0]\n",
        "Y = np.repeat(Y, num_augmentations, axis=0)\n",
        "\n",
        "\n",
        "max_len = max(len(seq) for seq in X)\n",
        "X_padded = [np.pad(seq, (0, max_len - len(seq)), 'constant') for seq in X]\n",
        "X = np.array(X_padded)\n",
        "\n",
        "# train_test_split\n",
        "from sklearn.model_selection import train_test_split\n",
        "x_train, x_test, y_train, y_test = train_test_split(X, Y, random_state=42, test_size=0.2, shuffle=True)\n",
        "x_train.shape, y_train.shape, x_test.shape, y_test.shape"
      ],
      "metadata": {
        "colab": {
          "base_uri": "https://localhost:8080/"
        },
        "id": "oPFvBOx8Vb0w",
        "outputId": "c1963d30-a409-411a-d07a-49044207ea20"
      },
      "execution_count": 24,
      "outputs": [
        {
          "output_type": "execute_result",
          "data": {
            "text/plain": [
              "((4608, 2376), (4608, 8), (1152, 2376), (1152, 8))"
            ]
          },
          "metadata": {},
          "execution_count": 24
        }
      ]
    },
    {
      "cell_type": "code",
      "source": [
        "scaler = StandardScaler()\n",
        "x_train = scaler.fit_transform(x_train)\n",
        "x_test = scaler.transform(x_test)\n",
        "x_train.shape, y_train.shape, x_test.shape, y_test.shape"
      ],
      "metadata": {
        "colab": {
          "base_uri": "https://localhost:8080/"
        },
        "id": "zT5c9hB9ViD3",
        "outputId": "668b725e-8d16-4350-d47d-e4e4c37c94e4"
      },
      "execution_count": 25,
      "outputs": [
        {
          "output_type": "execute_result",
          "data": {
            "text/plain": [
              "((4608, 2376), (4608, 8), (1152, 2376), (1152, 8))"
            ]
          },
          "metadata": {},
          "execution_count": 25
        }
      ]
    },
    {
      "cell_type": "code",
      "source": [
        "import IPython.display as ipd\n",
        "from IPython.display import Audio\n",
        "import keras\n",
        "from keras.preprocessing import sequence\n",
        "from keras.models import Sequential\n",
        "from keras.layers import Dense, Embedding\n",
        "from keras.layers import LSTM,BatchNormalization , GRU\n",
        "from tensorflow.keras.preprocessing.text import Tokenizer\n",
        "from keras.preprocessing.sequence import pad_sequences\n",
        "from tensorflow.keras.utils import to_categorical\n",
        "from keras.layers import Input, Flatten, Dropout, Activation\n",
        "from keras.layers import Conv1D, MaxPooling1D, AveragePooling1D\n",
        "from keras.models import Model\n",
        "from keras.callbacks import ModelCheckpoint\n",
        "from tensorflow.keras.optimizers import SGD\n"
      ],
      "metadata": {
        "id": "rqZStaA8XKoO"
      },
      "execution_count": 26,
      "outputs": []
    },
    {
      "cell_type": "code",
      "source": [
        "from keras.callbacks import ModelCheckpoint\n",
        "model_checkpoint = ModelCheckpoint('best_model1.keras', monitor='val_accuracy', save_best_only=True)\n"
      ],
      "metadata": {
        "id": "JyBeDYrfXMjt"
      },
      "execution_count": 42,
      "outputs": []
    },
    {
      "cell_type": "code",
      "source": [
        "early_stop = EarlyStopping(monitor='val_accuracy', mode='max', patience=5, restore_best_weights=True)\n",
        "lr_reduction=ReduceLROnPlateau(monitor='val_acc',patience=3,verbose=1,factor=0.5,min_lr=0.00001)"
      ],
      "metadata": {
        "id": "l7iPzfYIXUFA"
      },
      "execution_count": 43,
      "outputs": []
    },
    {
      "cell_type": "code",
      "source": [
        "x_traincnn =np.expand_dims(x_train, axis=2)\n",
        "x_testcnn= np.expand_dims(x_test, axis=2)\n",
        "x_traincnn.shape, y_train.shape, x_testcnn.shape, y_test.shape"
      ],
      "metadata": {
        "colab": {
          "base_uri": "https://localhost:8080/"
        },
        "id": "AHaALBCiXnHR",
        "outputId": "1316e7eb-c32a-4d32-e6f5-7b692678c4f1"
      },
      "execution_count": 44,
      "outputs": [
        {
          "output_type": "execute_result",
          "data": {
            "text/plain": [
              "((4608, 2376, 1), (4608, 8), (1152, 2376, 1), (1152, 8))"
            ]
          },
          "metadata": {},
          "execution_count": 44
        }
      ]
    },
    {
      "cell_type": "code",
      "source": [
        "import tensorflow.keras.layers as L\n",
        "from tensorflow.keras.models import Sequential\n",
        "from keras.callbacks import ModelCheckpoint\n",
        "\n",
        "model = Sequential([\n",
        "    L.Conv1D(512, kernel_size=5, strides=1, padding='same', activation='relu', input_shape=(x_traincnn.shape[1], 1)),\n",
        "    L.BatchNormalization(),\n",
        "    L.MaxPool1D(pool_size=5, strides=2, padding='same'),\n",
        "\n",
        "    L.Conv1D(512, kernel_size=5, strides=1, padding='same', activation='relu'),\n",
        "    L.BatchNormalization(),\n",
        "    L.MaxPool1D(pool_size=5, strides=2, padding='same'),\n",
        "    L.Dropout(0.2),\n",
        "\n",
        "    L.Conv1D(256, kernel_size=5, strides=1, padding='same', activation='relu'),\n",
        "    L.BatchNormalization(),\n",
        "    L.MaxPool1D(pool_size=5, strides=2, padding='same'),\n",
        "\n",
        "    L.Conv1D(256, kernel_size=3, strides=1, padding='same', activation='relu'),\n",
        "    L.BatchNormalization(),\n",
        "    L.MaxPool1D(pool_size=5, strides=2, padding='same'),\n",
        "    L.Dropout(0.2),\n",
        "\n",
        "    L.Conv1D(128, kernel_size=3, strides=1, padding='same', activation='relu'),\n",
        "    L.BatchNormalization(),\n",
        "    L.MaxPool1D(pool_size=3, strides=2, padding='same'),\n",
        "    L.Dropout(0.2),\n",
        "\n",
        "    L.Flatten(),\n",
        "    L.Dense(512, activation='relu'),\n",
        "    L.BatchNormalization(),\n",
        "    L.Dense(8, activation='softmax')\n",
        "])\n",
        "\n",
        "model.compile(optimizer='adam', loss='categorical_crossentropy', metrics=['accuracy'])\n",
        "\n",
        "model_checkpoint = ModelCheckpoint(\n",
        "    filepath='best_model1_weights.weights.h5',\n",
        "    monitor='val_accuracy',\n",
        "    save_best_only=True,\n",
        "    save_weights_only=True\n",
        ")\n",
        "\n",
        "history = model.fit(\n",
        "    x_traincnn,\n",
        "    y_train,\n",
        "    epochs=50,\n",
        "    validation_data=(x_testcnn, y_test),\n",
        "    batch_size=32,\n",
        "    callbacks=[model_checkpoint]\n",
        ")"
      ],
      "metadata": {
        "colab": {
          "base_uri": "https://localhost:8080/"
        },
        "id": "X-vflrFgXqAs",
        "outputId": "21e735a3-e897-4822-d5c6-dbcc8848b314"
      },
      "execution_count": 48,
      "outputs": [
        {
          "output_type": "stream",
          "name": "stdout",
          "text": [
            "Epoch 1/50\n",
            "\u001b[1m144/144\u001b[0m \u001b[32m━━━━━━━━━━━━━━━━━━━━\u001b[0m\u001b[37m\u001b[0m \u001b[1m13s\u001b[0m 23ms/step - accuracy: 0.3602 - loss: 2.0993 - val_accuracy: 0.1354 - val_loss: 5.3552\n",
            "Epoch 2/50\n",
            "\u001b[1m144/144\u001b[0m \u001b[32m━━━━━━━━━━━━━━━━━━━━\u001b[0m\u001b[37m\u001b[0m \u001b[1m2s\u001b[0m 14ms/step - accuracy: 0.5906 - loss: 1.1290 - val_accuracy: 0.1094 - val_loss: 3.7840\n",
            "Epoch 3/50\n",
            "\u001b[1m144/144\u001b[0m \u001b[32m━━━━━━━━━━━━━━━━━━━━\u001b[0m\u001b[37m\u001b[0m \u001b[1m2s\u001b[0m 16ms/step - accuracy: 0.7029 - loss: 0.8214 - val_accuracy: 0.1997 - val_loss: 5.2771\n",
            "Epoch 4/50\n",
            "\u001b[1m144/144\u001b[0m \u001b[32m━━━━━━━━━━━━━━━━━━━━\u001b[0m\u001b[37m\u001b[0m \u001b[1m2s\u001b[0m 16ms/step - accuracy: 0.7723 - loss: 0.6614 - val_accuracy: 0.4245 - val_loss: 1.9461\n",
            "Epoch 5/50\n",
            "\u001b[1m144/144\u001b[0m \u001b[32m━━━━━━━━━━━━━━━━━━━━\u001b[0m\u001b[37m\u001b[0m \u001b[1m2s\u001b[0m 16ms/step - accuracy: 0.8581 - loss: 0.4177 - val_accuracy: 0.6432 - val_loss: 1.1458\n",
            "Epoch 6/50\n",
            "\u001b[1m144/144\u001b[0m \u001b[32m━━━━━━━━━━━━━━━━━━━━\u001b[0m\u001b[37m\u001b[0m \u001b[1m2s\u001b[0m 16ms/step - accuracy: 0.9193 - loss: 0.2693 - val_accuracy: 0.6736 - val_loss: 0.9615\n",
            "Epoch 7/50\n",
            "\u001b[1m144/144\u001b[0m \u001b[32m━━━━━━━━━━━━━━━━━━━━\u001b[0m\u001b[37m\u001b[0m \u001b[1m2s\u001b[0m 16ms/step - accuracy: 0.9295 - loss: 0.2176 - val_accuracy: 0.7986 - val_loss: 0.6268\n",
            "Epoch 8/50\n",
            "\u001b[1m144/144\u001b[0m \u001b[32m━━━━━━━━━━━━━━━━━━━━\u001b[0m\u001b[37m\u001b[0m \u001b[1m2s\u001b[0m 14ms/step - accuracy: 0.9633 - loss: 0.1245 - val_accuracy: 0.7969 - val_loss: 0.5864\n",
            "Epoch 9/50\n",
            "\u001b[1m144/144\u001b[0m \u001b[32m━━━━━━━━━━━━━━━━━━━━\u001b[0m\u001b[37m\u001b[0m \u001b[1m2s\u001b[0m 14ms/step - accuracy: 0.9776 - loss: 0.0876 - val_accuracy: 0.7891 - val_loss: 0.7792\n",
            "Epoch 10/50\n",
            "\u001b[1m144/144\u001b[0m \u001b[32m━━━━━━━━━━━━━━━━━━━━\u001b[0m\u001b[37m\u001b[0m \u001b[1m2s\u001b[0m 16ms/step - accuracy: 0.9802 - loss: 0.0881 - val_accuracy: 0.8464 - val_loss: 0.5071\n",
            "Epoch 11/50\n",
            "\u001b[1m144/144\u001b[0m \u001b[32m━━━━━━━━━━━━━━━━━━━━\u001b[0m\u001b[37m\u001b[0m \u001b[1m2s\u001b[0m 16ms/step - accuracy: 0.9801 - loss: 0.0668 - val_accuracy: 0.8646 - val_loss: 0.4868\n",
            "Epoch 12/50\n",
            "\u001b[1m144/144\u001b[0m \u001b[32m━━━━━━━━━━━━━━━━━━━━\u001b[0m\u001b[37m\u001b[0m \u001b[1m2s\u001b[0m 15ms/step - accuracy: 0.9871 - loss: 0.0565 - val_accuracy: 0.8438 - val_loss: 0.5358\n",
            "Epoch 13/50\n",
            "\u001b[1m144/144\u001b[0m \u001b[32m━━━━━━━━━━━━━━━━━━━━\u001b[0m\u001b[37m\u001b[0m \u001b[1m2s\u001b[0m 14ms/step - accuracy: 0.9850 - loss: 0.0631 - val_accuracy: 0.8559 - val_loss: 0.5449\n",
            "Epoch 14/50\n",
            "\u001b[1m144/144\u001b[0m \u001b[32m━━━━━━━━━━━━━━━━━━━━\u001b[0m\u001b[37m\u001b[0m \u001b[1m2s\u001b[0m 14ms/step - accuracy: 0.9773 - loss: 0.0746 - val_accuracy: 0.6493 - val_loss: 1.4918\n",
            "Epoch 15/50\n",
            "\u001b[1m144/144\u001b[0m \u001b[32m━━━━━━━━━━━━━━━━━━━━\u001b[0m\u001b[37m\u001b[0m \u001b[1m2s\u001b[0m 14ms/step - accuracy: 0.9572 - loss: 0.1365 - val_accuracy: 0.8464 - val_loss: 0.5168\n",
            "Epoch 16/50\n",
            "\u001b[1m144/144\u001b[0m \u001b[32m━━━━━━━━━━━━━━━━━━━━\u001b[0m\u001b[37m\u001b[0m \u001b[1m2s\u001b[0m 14ms/step - accuracy: 0.9779 - loss: 0.0735 - val_accuracy: 0.8403 - val_loss: 0.5344\n",
            "Epoch 17/50\n",
            "\u001b[1m144/144\u001b[0m \u001b[32m━━━━━━━━━━━━━━━━━━━━\u001b[0m\u001b[37m\u001b[0m \u001b[1m2s\u001b[0m 14ms/step - accuracy: 0.9820 - loss: 0.0582 - val_accuracy: 0.8637 - val_loss: 0.5051\n",
            "Epoch 18/50\n",
            "\u001b[1m144/144\u001b[0m \u001b[32m━━━━━━━━━━━━━━━━━━━━\u001b[0m\u001b[37m\u001b[0m \u001b[1m2s\u001b[0m 16ms/step - accuracy: 0.9932 - loss: 0.0322 - val_accuracy: 0.8898 - val_loss: 0.3634\n",
            "Epoch 19/50\n",
            "\u001b[1m144/144\u001b[0m \u001b[32m━━━━━━━━━━━━━━━━━━━━\u001b[0m\u001b[37m\u001b[0m \u001b[1m2s\u001b[0m 14ms/step - accuracy: 0.9965 - loss: 0.0166 - val_accuracy: 0.8819 - val_loss: 0.4522\n",
            "Epoch 20/50\n",
            "\u001b[1m144/144\u001b[0m \u001b[32m━━━━━━━━━━━━━━━━━━━━\u001b[0m\u001b[37m\u001b[0m \u001b[1m2s\u001b[0m 14ms/step - accuracy: 0.9976 - loss: 0.0148 - val_accuracy: 0.8681 - val_loss: 0.4334\n",
            "Epoch 21/50\n",
            "\u001b[1m144/144\u001b[0m \u001b[32m━━━━━━━━━━━━━━━━━━━━\u001b[0m\u001b[37m\u001b[0m \u001b[1m2s\u001b[0m 14ms/step - accuracy: 0.9957 - loss: 0.0199 - val_accuracy: 0.8628 - val_loss: 0.4703\n",
            "Epoch 22/50\n",
            "\u001b[1m144/144\u001b[0m \u001b[32m━━━━━━━━━━━━━━━━━━━━\u001b[0m\u001b[37m\u001b[0m \u001b[1m2s\u001b[0m 14ms/step - accuracy: 0.9843 - loss: 0.0464 - val_accuracy: 0.7743 - val_loss: 0.8224\n",
            "Epoch 23/50\n",
            "\u001b[1m144/144\u001b[0m \u001b[32m━━━━━━━━━━━━━━━━━━━━\u001b[0m\u001b[37m\u001b[0m \u001b[1m2s\u001b[0m 14ms/step - accuracy: 0.9782 - loss: 0.0771 - val_accuracy: 0.8177 - val_loss: 0.7164\n",
            "Epoch 24/50\n",
            "\u001b[1m144/144\u001b[0m \u001b[32m━━━━━━━━━━━━━━━━━━━━\u001b[0m\u001b[37m\u001b[0m \u001b[1m2s\u001b[0m 14ms/step - accuracy: 0.9742 - loss: 0.0764 - val_accuracy: 0.8255 - val_loss: 0.5710\n",
            "Epoch 25/50\n",
            "\u001b[1m144/144\u001b[0m \u001b[32m━━━━━━━━━━━━━━━━━━━━\u001b[0m\u001b[37m\u001b[0m \u001b[1m2s\u001b[0m 14ms/step - accuracy: 0.9758 - loss: 0.0709 - val_accuracy: 0.8290 - val_loss: 0.7197\n",
            "Epoch 26/50\n",
            "\u001b[1m144/144\u001b[0m \u001b[32m━━━━━━━━━━━━━━━━━━━━\u001b[0m\u001b[37m\u001b[0m \u001b[1m2s\u001b[0m 14ms/step - accuracy: 0.9753 - loss: 0.0799 - val_accuracy: 0.8142 - val_loss: 0.6519\n",
            "Epoch 27/50\n",
            "\u001b[1m144/144\u001b[0m \u001b[32m━━━━━━━━━━━━━━━━━━━━\u001b[0m\u001b[37m\u001b[0m \u001b[1m2s\u001b[0m 14ms/step - accuracy: 0.9703 - loss: 0.0928 - val_accuracy: 0.8151 - val_loss: 0.6119\n",
            "Epoch 28/50\n",
            "\u001b[1m144/144\u001b[0m \u001b[32m━━━━━━━━━━━━━━━━━━━━\u001b[0m\u001b[37m\u001b[0m \u001b[1m2s\u001b[0m 14ms/step - accuracy: 0.9770 - loss: 0.0574 - val_accuracy: 0.8628 - val_loss: 0.4535\n",
            "Epoch 29/50\n",
            "\u001b[1m144/144\u001b[0m \u001b[32m━━━━━━━━━━━━━━━━━━━━\u001b[0m\u001b[37m\u001b[0m \u001b[1m2s\u001b[0m 14ms/step - accuracy: 0.9946 - loss: 0.0209 - val_accuracy: 0.8733 - val_loss: 0.4243\n",
            "Epoch 30/50\n",
            "\u001b[1m144/144\u001b[0m \u001b[32m━━━━━━━━━━━━━━━━━━━━\u001b[0m\u001b[37m\u001b[0m \u001b[1m2s\u001b[0m 16ms/step - accuracy: 0.9935 - loss: 0.0187 - val_accuracy: 0.8950 - val_loss: 0.3705\n",
            "Epoch 31/50\n",
            "\u001b[1m144/144\u001b[0m \u001b[32m━━━━━━━━━━━━━━━━━━━━\u001b[0m\u001b[37m\u001b[0m \u001b[1m2s\u001b[0m 14ms/step - accuracy: 0.9958 - loss: 0.0149 - val_accuracy: 0.8924 - val_loss: 0.4341\n",
            "Epoch 32/50\n",
            "\u001b[1m144/144\u001b[0m \u001b[32m━━━━━━━━━━━━━━━━━━━━\u001b[0m\u001b[37m\u001b[0m \u001b[1m2s\u001b[0m 16ms/step - accuracy: 0.9979 - loss: 0.0259 - val_accuracy: 0.9149 - val_loss: 0.3088\n",
            "Epoch 33/50\n",
            "\u001b[1m144/144\u001b[0m \u001b[32m━━━━━━━━━━━━━━━━━━━━\u001b[0m\u001b[37m\u001b[0m \u001b[1m2s\u001b[0m 14ms/step - accuracy: 0.9992 - loss: 0.0061 - val_accuracy: 0.9045 - val_loss: 0.3079\n",
            "Epoch 34/50\n",
            "\u001b[1m144/144\u001b[0m \u001b[32m━━━━━━━━━━━━━━━━━━━━\u001b[0m\u001b[37m\u001b[0m \u001b[1m2s\u001b[0m 14ms/step - accuracy: 0.9976 - loss: 0.0124 - val_accuracy: 0.9062 - val_loss: 0.3294\n",
            "Epoch 35/50\n",
            "\u001b[1m144/144\u001b[0m \u001b[32m━━━━━━━━━━━━━━━━━━━━\u001b[0m\u001b[37m\u001b[0m \u001b[1m2s\u001b[0m 14ms/step - accuracy: 0.9943 - loss: 0.0173 - val_accuracy: 0.8090 - val_loss: 0.7945\n",
            "Epoch 36/50\n",
            "\u001b[1m144/144\u001b[0m \u001b[32m━━━━━━━━━━━━━━━━━━━━\u001b[0m\u001b[37m\u001b[0m \u001b[1m2s\u001b[0m 14ms/step - accuracy: 0.9912 - loss: 0.0295 - val_accuracy: 0.8507 - val_loss: 0.4943\n",
            "Epoch 37/50\n",
            "\u001b[1m144/144\u001b[0m \u001b[32m━━━━━━━━━━━━━━━━━━━━\u001b[0m\u001b[37m\u001b[0m \u001b[1m2s\u001b[0m 14ms/step - accuracy: 0.9733 - loss: 0.0752 - val_accuracy: 0.8455 - val_loss: 0.6939\n",
            "Epoch 38/50\n",
            "\u001b[1m144/144\u001b[0m \u001b[32m━━━━━━━━━━━━━━━━━━━━\u001b[0m\u001b[37m\u001b[0m \u001b[1m2s\u001b[0m 14ms/step - accuracy: 0.9728 - loss: 0.0713 - val_accuracy: 0.8628 - val_loss: 0.5338\n",
            "Epoch 39/50\n",
            "\u001b[1m144/144\u001b[0m \u001b[32m━━━━━━━━━━━━━━━━━━━━\u001b[0m\u001b[37m\u001b[0m \u001b[1m2s\u001b[0m 14ms/step - accuracy: 0.9887 - loss: 0.0349 - val_accuracy: 0.8767 - val_loss: 0.4686\n",
            "Epoch 40/50\n",
            "\u001b[1m144/144\u001b[0m \u001b[32m━━━━━━━━━━━━━━━━━━━━\u001b[0m\u001b[37m\u001b[0m \u001b[1m2s\u001b[0m 14ms/step - accuracy: 0.9903 - loss: 0.0290 - val_accuracy: 0.8889 - val_loss: 0.3927\n",
            "Epoch 41/50\n",
            "\u001b[1m144/144\u001b[0m \u001b[32m━━━━━━━━━━━━━━━━━━━━\u001b[0m\u001b[37m\u001b[0m \u001b[1m2s\u001b[0m 14ms/step - accuracy: 0.9896 - loss: 0.0258 - val_accuracy: 0.9010 - val_loss: 0.4002\n",
            "Epoch 42/50\n",
            "\u001b[1m144/144\u001b[0m \u001b[32m━━━━━━━━━━━━━━━━━━━━\u001b[0m\u001b[37m\u001b[0m \u001b[1m2s\u001b[0m 14ms/step - accuracy: 0.9954 - loss: 0.0133 - val_accuracy: 0.9019 - val_loss: 0.3741\n",
            "Epoch 43/50\n",
            "\u001b[1m144/144\u001b[0m \u001b[32m━━━━━━━━━━━━━━━━━━━━\u001b[0m\u001b[37m\u001b[0m \u001b[1m2s\u001b[0m 14ms/step - accuracy: 0.9963 - loss: 0.0150 - val_accuracy: 0.9062 - val_loss: 0.4251\n",
            "Epoch 44/50\n",
            "\u001b[1m144/144\u001b[0m \u001b[32m━━━━━━━━━━━━━━━━━━━━\u001b[0m\u001b[37m\u001b[0m \u001b[1m2s\u001b[0m 14ms/step - accuracy: 0.9933 - loss: 0.0225 - val_accuracy: 0.8828 - val_loss: 0.4345\n",
            "Epoch 45/50\n",
            "\u001b[1m144/144\u001b[0m \u001b[32m━━━━━━━━━━━━━━━━━━━━\u001b[0m\u001b[37m\u001b[0m \u001b[1m2s\u001b[0m 14ms/step - accuracy: 0.9930 - loss: 0.0231 - val_accuracy: 0.8793 - val_loss: 0.4552\n",
            "Epoch 46/50\n",
            "\u001b[1m144/144\u001b[0m \u001b[32m━━━━━━━━━━━━━━━━━━━━\u001b[0m\u001b[37m\u001b[0m \u001b[1m2s\u001b[0m 14ms/step - accuracy: 0.9928 - loss: 0.0208 - val_accuracy: 0.8776 - val_loss: 0.5076\n",
            "Epoch 47/50\n",
            "\u001b[1m144/144\u001b[0m \u001b[32m━━━━━━━━━━━━━━━━━━━━\u001b[0m\u001b[37m\u001b[0m \u001b[1m2s\u001b[0m 14ms/step - accuracy: 0.9937 - loss: 0.0166 - val_accuracy: 0.8941 - val_loss: 0.4065\n",
            "Epoch 48/50\n",
            "\u001b[1m144/144\u001b[0m \u001b[32m━━━━━━━━━━━━━━━━━━━━\u001b[0m\u001b[37m\u001b[0m \u001b[1m2s\u001b[0m 14ms/step - accuracy: 0.9966 - loss: 0.0103 - val_accuracy: 0.8698 - val_loss: 0.5257\n",
            "Epoch 49/50\n",
            "\u001b[1m144/144\u001b[0m \u001b[32m━━━━━━━━━━━━━━━━━━━━\u001b[0m\u001b[37m\u001b[0m \u001b[1m2s\u001b[0m 14ms/step - accuracy: 0.9815 - loss: 0.0508 - val_accuracy: 0.8620 - val_loss: 0.6835\n",
            "Epoch 50/50\n",
            "\u001b[1m144/144\u001b[0m \u001b[32m━━━━━━━━━━━━━━━━━━━━\u001b[0m\u001b[37m\u001b[0m \u001b[1m2s\u001b[0m 14ms/step - accuracy: 0.9800 - loss: 0.0691 - val_accuracy: 0.8681 - val_loss: 0.4890\n"
          ]
        }
      ]
    },
    {
      "cell_type": "code",
      "source": [
        "import tensorflow.keras.layers as L\n",
        "from tensorflow.keras.models import Sequential\n",
        "\n",
        "model = Sequential([\n",
        "    L.Conv1D(512, kernel_size=5, strides=1, padding='same', activation='relu', input_shape=(x_traincnn.shape[1], 1)),\n",
        "    L.BatchNormalization(),\n",
        "    L.MaxPool1D(pool_size=5, strides=2, padding='same'),\n",
        "\n",
        "    L.Conv1D(512, kernel_size=5, strides=1, padding='same', activation='relu'),\n",
        "    L.BatchNormalization(),\n",
        "    L.MaxPool1D(pool_size=5, strides=2, padding='same'),\n",
        "    L.Dropout(0.2),\n",
        "\n",
        "    L.Conv1D(256, kernel_size=5, strides=1, padding='same', activation='relu'),\n",
        "    L.BatchNormalization(),\n",
        "    L.MaxPool1D(pool_size=5, strides=2, padding='same'),\n",
        "\n",
        "    L.Conv1D(256, kernel_size=3, strides=1, padding='same', activation='relu'),\n",
        "    L.BatchNormalization(),\n",
        "    L.MaxPool1D(pool_size=5, strides=2, padding='same'),\n",
        "    L.Dropout(0.2),\n",
        "\n",
        "    L.Conv1D(128, kernel_size=3, strides=1, padding='same', activation='relu'),\n",
        "    L.BatchNormalization(),\n",
        "    L.MaxPool1D(pool_size=3, strides=2, padding='same'),\n",
        "    L.Dropout(0.2),\n",
        "\n",
        "    L.Flatten(),\n",
        "    L.Dense(512, activation='relu'),\n",
        "    L.BatchNormalization(),\n",
        "    L.Dense(8, activation='softmax')\n",
        "])\n",
        "\n",
        "model.compile(optimizer='adam', loss='categorical_crossentropy', metrics=['accuracy'])\n",
        "\n",
        "model.load_weights('/content/best_model1_weights.weights.h5')\n",
        "\n",
        "print(\"Model architecture recreated and weights loaded successfully!\")\n"
      ],
      "metadata": {
        "colab": {
          "base_uri": "https://localhost:8080/"
        },
        "id": "sS4POQ0UmOxA",
        "outputId": "0a45682c-4a2f-4acd-ceb7-73840e9af899"
      },
      "execution_count": 50,
      "outputs": [
        {
          "output_type": "stream",
          "name": "stdout",
          "text": [
            "Model architecture recreated and weights loaded successfully!\n"
          ]
        },
        {
          "output_type": "stream",
          "name": "stderr",
          "text": [
            "/usr/local/lib/python3.11/dist-packages/keras/src/saving/saving_lib.py:713: UserWarning: Skipping variable loading for optimizer 'adam', because it has 2 variables whereas the saved optimizer has 54 variables. \n",
            "  saveable.load_own_variables(weights_store.get(inner_path))\n"
          ]
        }
      ]
    },
    {
      "cell_type": "code",
      "source": [
        "from keras.callbacks import ModelCheckpoint, EarlyStopping, ReduceLROnPlateau\n",
        "\n",
        "# Callbacks\n",
        "model_checkpoint = ModelCheckpoint('best_model1.keras', monitor='val_accuracy', save_best_only=True)\n",
        "early_stop = EarlyStopping(monitor='val_accuracy', patience=10, restore_best_weights=True)\n",
        "lr_reduction = ReduceLROnPlateau(monitor='val_accuracy', patience=3, verbose=1, factor=0.5, min_lr=1e-5)\n",
        "\n",
        "# Train the model\n",
        "history = model.fit(\n",
        "    x_traincnn, y_train,\n",
        "    epochs=50,\n",
        "    validation_data=(x_testcnn, y_test),\n",
        "    batch_size=32,\n",
        "    callbacks=[model_checkpoint, early_stop, lr_reduction]\n",
        ")\n"
      ],
      "metadata": {
        "colab": {
          "base_uri": "https://localhost:8080/"
        },
        "id": "gztw0zE4ypGk",
        "outputId": "ee5e8161-e05d-445a-9944-79b2995b372c"
      },
      "execution_count": 51,
      "outputs": [
        {
          "output_type": "stream",
          "name": "stdout",
          "text": [
            "Epoch 1/50\n",
            "\u001b[1m144/144\u001b[0m \u001b[32m━━━━━━━━━━━━━━━━━━━━\u001b[0m\u001b[37m\u001b[0m \u001b[1m12s\u001b[0m 24ms/step - accuracy: 0.9867 - loss: 0.0431 - val_accuracy: 0.8125 - val_loss: 0.7330 - learning_rate: 0.0010\n",
            "Epoch 2/50\n",
            "\u001b[1m144/144\u001b[0m \u001b[32m━━━━━━━━━━━━━━━━━━━━\u001b[0m\u001b[37m\u001b[0m \u001b[1m2s\u001b[0m 17ms/step - accuracy: 0.9779 - loss: 0.0765 - val_accuracy: 0.8707 - val_loss: 0.4660 - learning_rate: 0.0010\n",
            "Epoch 3/50\n",
            "\u001b[1m144/144\u001b[0m \u001b[32m━━━━━━━━━━━━━━━━━━━━\u001b[0m\u001b[37m\u001b[0m \u001b[1m2s\u001b[0m 14ms/step - accuracy: 0.9902 - loss: 0.0366 - val_accuracy: 0.7769 - val_loss: 0.8720 - learning_rate: 0.0010\n",
            "Epoch 4/50\n",
            "\u001b[1m144/144\u001b[0m \u001b[32m━━━━━━━━━━━━━━━━━━━━\u001b[0m\u001b[37m\u001b[0m \u001b[1m3s\u001b[0m 17ms/step - accuracy: 0.9820 - loss: 0.0588 - val_accuracy: 0.8776 - val_loss: 0.4362 - learning_rate: 0.0010\n",
            "Epoch 5/50\n",
            "\u001b[1m144/144\u001b[0m \u001b[32m━━━━━━━━━━━━━━━━━━━━\u001b[0m\u001b[37m\u001b[0m \u001b[1m2s\u001b[0m 14ms/step - accuracy: 0.9892 - loss: 0.0341 - val_accuracy: 0.8568 - val_loss: 0.5177 - learning_rate: 0.0010\n",
            "Epoch 6/50\n",
            "\u001b[1m144/144\u001b[0m \u001b[32m━━━━━━━━━━━━━━━━━━━━\u001b[0m\u001b[37m\u001b[0m \u001b[1m2s\u001b[0m 14ms/step - accuracy: 0.9892 - loss: 0.0294 - val_accuracy: 0.8750 - val_loss: 0.4960 - learning_rate: 0.0010\n",
            "Epoch 7/50\n",
            "\u001b[1m144/144\u001b[0m \u001b[32m━━━━━━━━━━━━━━━━━━━━\u001b[0m\u001b[37m\u001b[0m \u001b[1m2s\u001b[0m 17ms/step - accuracy: 0.9921 - loss: 0.0256 - val_accuracy: 0.8958 - val_loss: 0.3915 - learning_rate: 0.0010\n",
            "Epoch 8/50\n",
            "\u001b[1m144/144\u001b[0m \u001b[32m━━━━━━━━━━━━━━━━━━━━\u001b[0m\u001b[37m\u001b[0m \u001b[1m2s\u001b[0m 14ms/step - accuracy: 0.9937 - loss: 0.0182 - val_accuracy: 0.8906 - val_loss: 0.4264 - learning_rate: 0.0010\n",
            "Epoch 9/50\n",
            "\u001b[1m144/144\u001b[0m \u001b[32m━━━━━━━━━━━━━━━━━━━━\u001b[0m\u001b[37m\u001b[0m \u001b[1m2s\u001b[0m 14ms/step - accuracy: 0.9941 - loss: 0.0209 - val_accuracy: 0.8924 - val_loss: 0.4060 - learning_rate: 0.0010\n",
            "Epoch 10/50\n",
            "\u001b[1m144/144\u001b[0m \u001b[32m━━━━━━━━━━━━━━━━━━━━\u001b[0m\u001b[37m\u001b[0m \u001b[1m2s\u001b[0m 17ms/step - accuracy: 0.9965 - loss: 0.0120 - val_accuracy: 0.8976 - val_loss: 0.3364 - learning_rate: 0.0010\n",
            "Epoch 11/50\n",
            "\u001b[1m144/144\u001b[0m \u001b[32m━━━━━━━━━━━━━━━━━━━━\u001b[0m\u001b[37m\u001b[0m \u001b[1m2s\u001b[0m 14ms/step - accuracy: 0.9931 - loss: 0.0199 - val_accuracy: 0.6710 - val_loss: 1.8485 - learning_rate: 0.0010\n",
            "Epoch 12/50\n",
            "\u001b[1m144/144\u001b[0m \u001b[32m━━━━━━━━━━━━━━━━━━━━\u001b[0m\u001b[37m\u001b[0m \u001b[1m2s\u001b[0m 14ms/step - accuracy: 0.9656 - loss: 0.1048 - val_accuracy: 0.7622 - val_loss: 0.8616 - learning_rate: 0.0010\n",
            "Epoch 13/50\n",
            "\u001b[1m141/144\u001b[0m \u001b[32m━━━━━━━━━━━━━━━━━━━\u001b[0m\u001b[37m━\u001b[0m \u001b[1m0s\u001b[0m 13ms/step - accuracy: 0.9272 - loss: 0.2277\n",
            "Epoch 13: ReduceLROnPlateau reducing learning rate to 0.0005000000237487257.\n",
            "\u001b[1m144/144\u001b[0m \u001b[32m━━━━━━━━━━━━━━━━━━━━\u001b[0m\u001b[37m\u001b[0m \u001b[1m2s\u001b[0m 14ms/step - accuracy: 0.9275 - loss: 0.2268 - val_accuracy: 0.8741 - val_loss: 0.4557 - learning_rate: 0.0010\n",
            "Epoch 14/50\n",
            "\u001b[1m144/144\u001b[0m \u001b[32m━━━━━━━━━━━━━━━━━━━━\u001b[0m\u001b[37m\u001b[0m \u001b[1m2s\u001b[0m 17ms/step - accuracy: 0.9864 - loss: 0.0452 - val_accuracy: 0.9019 - val_loss: 0.3409 - learning_rate: 5.0000e-04\n",
            "Epoch 15/50\n",
            "\u001b[1m144/144\u001b[0m \u001b[32m━━━━━━━━━━━━━━━━━━━━\u001b[0m\u001b[37m\u001b[0m \u001b[1m3s\u001b[0m 17ms/step - accuracy: 0.9977 - loss: 0.0110 - val_accuracy: 0.9080 - val_loss: 0.3005 - learning_rate: 5.0000e-04\n",
            "Epoch 16/50\n",
            "\u001b[1m144/144\u001b[0m \u001b[32m━━━━━━━━━━━━━━━━━━━━\u001b[0m\u001b[37m\u001b[0m \u001b[1m3s\u001b[0m 17ms/step - accuracy: 0.9965 - loss: 0.0098 - val_accuracy: 0.9175 - val_loss: 0.2909 - learning_rate: 5.0000e-04\n",
            "Epoch 17/50\n",
            "\u001b[1m144/144\u001b[0m \u001b[32m━━━━━━━━━━━━━━━━━━━━\u001b[0m\u001b[37m\u001b[0m \u001b[1m2s\u001b[0m 14ms/step - accuracy: 0.9994 - loss: 0.0062 - val_accuracy: 0.9175 - val_loss: 0.2911 - learning_rate: 5.0000e-04\n",
            "Epoch 18/50\n",
            "\u001b[1m144/144\u001b[0m \u001b[32m━━━━━━━━━━━━━━━━━━━━\u001b[0m\u001b[37m\u001b[0m \u001b[1m2s\u001b[0m 14ms/step - accuracy: 0.9989 - loss: 0.0052 - val_accuracy: 0.9149 - val_loss: 0.2912 - learning_rate: 5.0000e-04\n",
            "Epoch 19/50\n",
            "\u001b[1m144/144\u001b[0m \u001b[32m━━━━━━━━━━━━━━━━━━━━\u001b[0m\u001b[37m\u001b[0m \u001b[1m3s\u001b[0m 18ms/step - accuracy: 0.9994 - loss: 0.0045 - val_accuracy: 0.9236 - val_loss: 0.2711 - learning_rate: 5.0000e-04\n",
            "Epoch 20/50\n",
            "\u001b[1m144/144\u001b[0m \u001b[32m━━━━━━━━━━━━━━━━━━━━\u001b[0m\u001b[37m\u001b[0m \u001b[1m2s\u001b[0m 14ms/step - accuracy: 0.9993 - loss: 0.0035 - val_accuracy: 0.9210 - val_loss: 0.2758 - learning_rate: 5.0000e-04\n",
            "Epoch 21/50\n",
            "\u001b[1m144/144\u001b[0m \u001b[32m━━━━━━━━━━━━━━━━━━━━\u001b[0m\u001b[37m\u001b[0m \u001b[1m2s\u001b[0m 14ms/step - accuracy: 0.9994 - loss: 0.0034 - val_accuracy: 0.9201 - val_loss: 0.2803 - learning_rate: 5.0000e-04\n",
            "Epoch 22/50\n",
            "\u001b[1m144/144\u001b[0m \u001b[32m━━━━━━━━━━━━━━━━━━━━\u001b[0m\u001b[37m\u001b[0m \u001b[1m2s\u001b[0m 17ms/step - accuracy: 0.9993 - loss: 0.0039 - val_accuracy: 0.9288 - val_loss: 0.2615 - learning_rate: 5.0000e-04\n",
            "Epoch 23/50\n",
            "\u001b[1m144/144\u001b[0m \u001b[32m━━━━━━━━━━━━━━━━━━━━\u001b[0m\u001b[37m\u001b[0m \u001b[1m3s\u001b[0m 17ms/step - accuracy: 0.9998 - loss: 0.0033 - val_accuracy: 0.9314 - val_loss: 0.2484 - learning_rate: 5.0000e-04\n",
            "Epoch 24/50\n",
            "\u001b[1m144/144\u001b[0m \u001b[32m━━━━━━━━━━━━━━━━━━━━\u001b[0m\u001b[37m\u001b[0m \u001b[1m2s\u001b[0m 15ms/step - accuracy: 0.9998 - loss: 0.0022 - val_accuracy: 0.9227 - val_loss: 0.2737 - learning_rate: 5.0000e-04\n",
            "Epoch 25/50\n",
            "\u001b[1m144/144\u001b[0m \u001b[32m━━━━━━━━━━━━━━━━━━━━\u001b[0m\u001b[37m\u001b[0m \u001b[1m2s\u001b[0m 14ms/step - accuracy: 0.9989 - loss: 0.0042 - val_accuracy: 0.9253 - val_loss: 0.2803 - learning_rate: 5.0000e-04\n",
            "Epoch 26/50\n",
            "\u001b[1m141/144\u001b[0m \u001b[32m━━━━━━━━━━━━━━━━━━━\u001b[0m\u001b[37m━\u001b[0m \u001b[1m0s\u001b[0m 13ms/step - accuracy: 0.9964 - loss: 0.0142\n",
            "Epoch 26: ReduceLROnPlateau reducing learning rate to 0.0002500000118743628.\n",
            "\u001b[1m144/144\u001b[0m \u001b[32m━━━━━━━━━━━━━━━━━━━━\u001b[0m\u001b[37m\u001b[0m \u001b[1m2s\u001b[0m 14ms/step - accuracy: 0.9965 - loss: 0.0141 - val_accuracy: 0.9193 - val_loss: 0.3074 - learning_rate: 5.0000e-04\n",
            "Epoch 27/50\n",
            "\u001b[1m144/144\u001b[0m \u001b[32m━━━━━━━━━━━━━━━━━━━━\u001b[0m\u001b[37m\u001b[0m \u001b[1m2s\u001b[0m 14ms/step - accuracy: 0.9997 - loss: 0.0025 - val_accuracy: 0.9262 - val_loss: 0.2874 - learning_rate: 2.5000e-04\n",
            "Epoch 28/50\n",
            "\u001b[1m144/144\u001b[0m \u001b[32m━━━━━━━━━━━━━━━━━━━━\u001b[0m\u001b[37m\u001b[0m \u001b[1m2s\u001b[0m 14ms/step - accuracy: 1.0000 - loss: 0.0014 - val_accuracy: 0.9262 - val_loss: 0.2793 - learning_rate: 2.5000e-04\n",
            "Epoch 29/50\n",
            "\u001b[1m141/144\u001b[0m \u001b[32m━━━━━━━━━━━━━━━━━━━\u001b[0m\u001b[37m━\u001b[0m \u001b[1m0s\u001b[0m 13ms/step - accuracy: 1.0000 - loss: 0.0013\n",
            "Epoch 29: ReduceLROnPlateau reducing learning rate to 0.0001250000059371814.\n",
            "\u001b[1m144/144\u001b[0m \u001b[32m━━━━━━━━━━━━━━━━━━━━\u001b[0m\u001b[37m\u001b[0m \u001b[1m2s\u001b[0m 14ms/step - accuracy: 1.0000 - loss: 0.0013 - val_accuracy: 0.9297 - val_loss: 0.2696 - learning_rate: 2.5000e-04\n",
            "Epoch 30/50\n",
            "\u001b[1m144/144\u001b[0m \u001b[32m━━━━━━━━━━━━━━━━━━━━\u001b[0m\u001b[37m\u001b[0m \u001b[1m2s\u001b[0m 17ms/step - accuracy: 0.9988 - loss: 0.0019 - val_accuracy: 0.9349 - val_loss: 0.2643 - learning_rate: 1.2500e-04\n",
            "Epoch 31/50\n",
            "\u001b[1m144/144\u001b[0m \u001b[32m━━━━━━━━━━━━━━━━━━━━\u001b[0m\u001b[37m\u001b[0m \u001b[1m2s\u001b[0m 17ms/step - accuracy: 1.0000 - loss: 8.1588e-04 - val_accuracy: 0.9375 - val_loss: 0.2613 - learning_rate: 1.2500e-04\n",
            "Epoch 32/50\n",
            "\u001b[1m144/144\u001b[0m \u001b[32m━━━━━━━━━━━━━━━━━━━━\u001b[0m\u001b[37m\u001b[0m \u001b[1m2s\u001b[0m 14ms/step - accuracy: 1.0000 - loss: 0.0013 - val_accuracy: 0.9375 - val_loss: 0.2584 - learning_rate: 1.2500e-04\n",
            "Epoch 33/50\n",
            "\u001b[1m144/144\u001b[0m \u001b[32m━━━━━━━━━━━━━━━━━━━━\u001b[0m\u001b[37m\u001b[0m \u001b[1m2s\u001b[0m 14ms/step - accuracy: 1.0000 - loss: 0.0015 - val_accuracy: 0.9366 - val_loss: 0.2570 - learning_rate: 1.2500e-04\n",
            "Epoch 34/50\n",
            "\u001b[1m142/144\u001b[0m \u001b[32m━━━━━━━━━━━━━━━━━━━\u001b[0m\u001b[37m━\u001b[0m \u001b[1m0s\u001b[0m 13ms/step - accuracy: 0.9998 - loss: 0.0017\n",
            "Epoch 34: ReduceLROnPlateau reducing learning rate to 6.25000029685907e-05.\n",
            "\u001b[1m144/144\u001b[0m \u001b[32m━━━━━━━━━━━━━━━━━━━━\u001b[0m\u001b[37m\u001b[0m \u001b[1m2s\u001b[0m 14ms/step - accuracy: 0.9998 - loss: 0.0017 - val_accuracy: 0.9340 - val_loss: 0.2577 - learning_rate: 1.2500e-04\n",
            "Epoch 35/50\n",
            "\u001b[1m144/144\u001b[0m \u001b[32m━━━━━━━━━━━━━━━━━━━━\u001b[0m\u001b[37m\u001b[0m \u001b[1m2s\u001b[0m 14ms/step - accuracy: 1.0000 - loss: 8.8238e-04 - val_accuracy: 0.9358 - val_loss: 0.2570 - learning_rate: 6.2500e-05\n",
            "Epoch 36/50\n",
            "\u001b[1m144/144\u001b[0m \u001b[32m━━━━━━━━━━━━━━━━━━━━\u001b[0m\u001b[37m\u001b[0m \u001b[1m2s\u001b[0m 14ms/step - accuracy: 0.9999 - loss: 0.0010 - val_accuracy: 0.9323 - val_loss: 0.2570 - learning_rate: 6.2500e-05\n",
            "Epoch 37/50\n",
            "\u001b[1m141/144\u001b[0m \u001b[32m━━━━━━━━━━━━━━━━━━━\u001b[0m\u001b[37m━\u001b[0m \u001b[1m0s\u001b[0m 13ms/step - accuracy: 1.0000 - loss: 7.0245e-04\n",
            "Epoch 37: ReduceLROnPlateau reducing learning rate to 3.125000148429535e-05.\n",
            "\u001b[1m144/144\u001b[0m \u001b[32m━━━━━━━━━━━━━━━━━━━━\u001b[0m\u001b[37m\u001b[0m \u001b[1m2s\u001b[0m 14ms/step - accuracy: 1.0000 - loss: 7.0426e-04 - val_accuracy: 0.9349 - val_loss: 0.2559 - learning_rate: 6.2500e-05\n",
            "Epoch 38/50\n",
            "\u001b[1m144/144\u001b[0m \u001b[32m━━━━━━━━━━━━━━━━━━━━\u001b[0m\u001b[37m\u001b[0m \u001b[1m2s\u001b[0m 14ms/step - accuracy: 0.9999 - loss: 0.0011 - val_accuracy: 0.9340 - val_loss: 0.2559 - learning_rate: 3.1250e-05\n",
            "Epoch 39/50\n",
            "\u001b[1m144/144\u001b[0m \u001b[32m━━━━━━━━━━━━━━━━━━━━\u001b[0m\u001b[37m\u001b[0m \u001b[1m2s\u001b[0m 14ms/step - accuracy: 0.9995 - loss: 0.0014 - val_accuracy: 0.9340 - val_loss: 0.2548 - learning_rate: 3.1250e-05\n",
            "Epoch 40/50\n",
            "\u001b[1m141/144\u001b[0m \u001b[32m━━━━━━━━━━━━━━━━━━━\u001b[0m\u001b[37m━\u001b[0m \u001b[1m0s\u001b[0m 13ms/step - accuracy: 1.0000 - loss: 0.0015\n",
            "Epoch 40: ReduceLROnPlateau reducing learning rate to 1.5625000742147677e-05.\n",
            "\u001b[1m144/144\u001b[0m \u001b[32m━━━━━━━━━━━━━━━━━━━━\u001b[0m\u001b[37m\u001b[0m \u001b[1m2s\u001b[0m 14ms/step - accuracy: 1.0000 - loss: 0.0015 - val_accuracy: 0.9349 - val_loss: 0.2549 - learning_rate: 3.1250e-05\n",
            "Epoch 41/50\n",
            "\u001b[1m144/144\u001b[0m \u001b[32m━━━━━━━━━━━━━━━━━━━━\u001b[0m\u001b[37m\u001b[0m \u001b[1m2s\u001b[0m 14ms/step - accuracy: 0.9992 - loss: 0.0017 - val_accuracy: 0.9358 - val_loss: 0.2553 - learning_rate: 1.5625e-05\n"
          ]
        }
      ]
    },
    {
      "cell_type": "code",
      "source": [
        "import librosa\n",
        "import numpy as np\n",
        "import tensorflow as tf\n",
        "from sklearn.preprocessing import StandardScaler\n",
        "\n",
        "model = tf.keras.models.load_model('best_model1.keras')\n",
        "\n",
        "def extract_features(data, sr=22050, frame_length=2048, hop_length=512):\n",
        "    result = np.array([])\n",
        "    zcr = librosa.feature.zero_crossing_rate(y=data, frame_length=frame_length, hop_length=hop_length)\n",
        "    result = np.hstack((result, np.squeeze(zcr)))\n",
        "    rmse = librosa.feature.rms(y=data, frame_length=frame_length, hop_length=hop_length)\n",
        "    result = np.hstack((result, np.squeeze(rmse)))\n",
        "    mfcc = librosa.feature.mfcc(y=data, sr=sr)\n",
        "    result = np.hstack((result, np.ravel(mfcc.T)))\n",
        "    return result\n",
        "\n",
        "def get_features(path, duration=2.5, offset=0.6):\n",
        "    data, sr = librosa.load(path, duration=duration, offset=offset)\n",
        "    return extract_features(data)\n",
        "\n",
        "new_audio_file = \"/content/test.wav\" # loading the audio file\n",
        "\n",
        "\n",
        "new_audio_features = get_features(new_audio_file)\n",
        "\n",
        "new_audio_features = np.expand_dims(new_audio_features, axis=0)\n",
        "\n",
        "scaler = StandardScaler()\n",
        "new_audio_features = scaler.fit_transform(new_audio_features)\n",
        "\n",
        "new_audio_features = np.expand_dims(new_audio_features, axis=2)\n",
        "\n",
        "\n",
        "prediction = model.predict(new_audio_features)\n",
        "\n",
        "predicted_emotion_index = np.argmax(prediction)\n",
        "\n",
        "predicted_emotion = emotion_labels[predicted_emotion_index]\n",
        "\n",
        "print(f\"The predicted emotion for the new audio file is: {predicted_emotion}\")"
      ],
      "metadata": {
        "colab": {
          "base_uri": "https://localhost:8080/"
        },
        "id": "ekWM8vOty4hJ",
        "outputId": "b00e1ed7-6706-46a2-ebd5-10afd8ef7a82"
      },
      "execution_count": 60,
      "outputs": [
        {
          "output_type": "stream",
          "name": "stdout",
          "text": [
            "\u001b[1m1/1\u001b[0m \u001b[32m━━━━━━━━━━━━━━━━━━━━\u001b[0m\u001b[37m\u001b[0m \u001b[1m1s\u001b[0m 536ms/step\n",
            "The predicted emotion for the new audio file is: disgust\n"
          ]
        }
      ]
    },
    {
      "cell_type": "code",
      "source": [],
      "metadata": {
        "id": "QRfHXRykfIpf"
      },
      "execution_count": null,
      "outputs": []
    }
  ]
}
